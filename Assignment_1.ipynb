{
  "nbformat": 4,
  "nbformat_minor": 0,
  "metadata": {
    "colab": {
      "provenance": []
    },
    "kernelspec": {
      "name": "python3",
      "display_name": "Python 3"
    },
    "language_info": {
      "name": "python"
    }
  },
  "cells": [
    {
      "cell_type": "code",
      "execution_count": null,
      "metadata": {
        "id": "OQEu5JIIgfVM"
      },
      "outputs": [],
      "source": [
        "# question.3  Create 2 user personas for Food delivery App & Travel app.\n",
        "<iframe style=\"border: 1px solid rgba(0, 0, 0, 0.1);\" width=\"800\" height=\"450\" src=\"https://embed.figma.com/design/sRoJiepsejVrGC6VHtiZlB/Untitled?node-id=0-1&embed-host=share\" allowfullscreen></iframe>"
      ]
    },
    {
      "cell_type": "code",
      "source": [
        "# question.4 Create a simple user journey map.\n",
        "<iframe style=\"border: 1px solid rgba(0, 0, 0, 0.1);\" width=\"800\" height=\"450\" src=\"https://embed.figma.com/design/qYgioxMMrfCioH4CDiHoN9/Untitled?embed-host=share\" allowfullscreen></iframe>"
      ],
      "metadata": {
        "id": "kg_rBw3_lhQu"
      },
      "execution_count": null,
      "outputs": []
    },
    {
      "cell_type": "markdown",
      "source": [
        "# Assignment-1\n"
      ],
      "metadata": {
        "id": "ngXtzz9KgwxN"
      }
    },
    {
      "cell_type": "markdown",
      "source": [
        "1. What is the purpose of conducting user interviews\n",
        "   in UI/UX design?\n",
        "  \n",
        "   - The purpose of conducting user interviews in UI/\n",
        "     UX design to gain deep, qualitative insights into\n",
        "     user's experiences,perspectives and behaviours.\n",
        "     To understand user's needs,motivations and pain\n",
        "     point directly.\n",
        "\n",
        "2. . What is the purpose of surveys in UI/UX         \n",
        "     design?    \n",
        "   - In UI/UX design,surveys are used as a primary\n",
        "     research method to gather feedback from user's\n",
        "     allowing designers to understand their needs,  \n",
        "     pain-points and preferences regarding a product\n",
        "     or interface, which then informs design decision\n",
        "     to improve the overall user experience.\n",
        "     "
      ],
      "metadata": {
        "id": "2TmEFh8AhAoJ"
      }
    }
  ]
}